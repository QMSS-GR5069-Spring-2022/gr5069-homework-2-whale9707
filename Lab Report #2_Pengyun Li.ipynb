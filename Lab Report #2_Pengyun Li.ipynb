{
 "cells": [
  {
   "cell_type": "markdown",
   "metadata": {},
   "source": [
    "# Lab Report #2_Pengyun Li"
   ]
  },
  {
   "cell_type": "code",
   "execution_count": 1,
   "metadata": {},
   "outputs": [],
   "source": [
    "from __future__ import division\n",
    "import pandas as pd\n",
    "import numpy as np\n",
    "import statsmodels.api as sm\n",
    "import statsmodels.formula.api as smf\n",
    "import os\n",
    "import matplotlib.pyplot as plt"
   ]
  },
  {
   "cell_type": "code",
   "execution_count": 3,
   "metadata": {},
   "outputs": [
    {
     "data": {
      "text/html": [
       "<div>\n",
       "<style scoped>\n",
       "    .dataframe tbody tr th:only-of-type {\n",
       "        vertical-align: middle;\n",
       "    }\n",
       "\n",
       "    .dataframe tbody tr th {\n",
       "        vertical-align: top;\n",
       "    }\n",
       "\n",
       "    .dataframe thead th {\n",
       "        text-align: right;\n",
       "    }\n",
       "</style>\n",
       "<table border=\"1\" class=\"dataframe\">\n",
       "  <thead>\n",
       "    <tr style=\"text-align: right;\">\n",
       "      <th></th>\n",
       "      <th>vpsu</th>\n",
       "      <th>vstrat</th>\n",
       "      <th>adults</th>\n",
       "      <th>ballot</th>\n",
       "      <th>dateintv</th>\n",
       "      <th>famgen</th>\n",
       "      <th>form</th>\n",
       "      <th>formwt</th>\n",
       "      <th>gender1</th>\n",
       "      <th>hompop</th>\n",
       "      <th>...</th>\n",
       "      <th>away7</th>\n",
       "      <th>gender14</th>\n",
       "      <th>old14</th>\n",
       "      <th>relate14</th>\n",
       "      <th>relhh14</th>\n",
       "      <th>relhhd14</th>\n",
       "      <th>relsp14</th>\n",
       "      <th>where12</th>\n",
       "      <th>where6</th>\n",
       "      <th>where7</th>\n",
       "    </tr>\n",
       "  </thead>\n",
       "  <tbody>\n",
       "    <tr>\n",
       "      <th>0</th>\n",
       "      <td>1</td>\n",
       "      <td>1957</td>\n",
       "      <td>1</td>\n",
       "      <td>3</td>\n",
       "      <td>316</td>\n",
       "      <td>2</td>\n",
       "      <td>1</td>\n",
       "      <td>1</td>\n",
       "      <td>2</td>\n",
       "      <td>3</td>\n",
       "      <td>...</td>\n",
       "      <td>NaN</td>\n",
       "      <td>NaN</td>\n",
       "      <td>NaN</td>\n",
       "      <td>NaN</td>\n",
       "      <td>NaN</td>\n",
       "      <td>NaN</td>\n",
       "      <td>NaN</td>\n",
       "      <td>NaN</td>\n",
       "      <td>NaN</td>\n",
       "      <td>NaN</td>\n",
       "    </tr>\n",
       "    <tr>\n",
       "      <th>1</th>\n",
       "      <td>1</td>\n",
       "      <td>1957</td>\n",
       "      <td>2</td>\n",
       "      <td>2</td>\n",
       "      <td>630</td>\n",
       "      <td>1</td>\n",
       "      <td>2</td>\n",
       "      <td>1</td>\n",
       "      <td>2</td>\n",
       "      <td>2</td>\n",
       "      <td>...</td>\n",
       "      <td>NaN</td>\n",
       "      <td>NaN</td>\n",
       "      <td>NaN</td>\n",
       "      <td>NaN</td>\n",
       "      <td>NaN</td>\n",
       "      <td>NaN</td>\n",
       "      <td>NaN</td>\n",
       "      <td>NaN</td>\n",
       "      <td>NaN</td>\n",
       "      <td>NaN</td>\n",
       "    </tr>\n",
       "    <tr>\n",
       "      <th>2</th>\n",
       "      <td>1</td>\n",
       "      <td>1957</td>\n",
       "      <td>2</td>\n",
       "      <td>2</td>\n",
       "      <td>314</td>\n",
       "      <td>2</td>\n",
       "      <td>1</td>\n",
       "      <td>1</td>\n",
       "      <td>2</td>\n",
       "      <td>2</td>\n",
       "      <td>...</td>\n",
       "      <td>NaN</td>\n",
       "      <td>NaN</td>\n",
       "      <td>NaN</td>\n",
       "      <td>NaN</td>\n",
       "      <td>NaN</td>\n",
       "      <td>NaN</td>\n",
       "      <td>NaN</td>\n",
       "      <td>NaN</td>\n",
       "      <td>NaN</td>\n",
       "      <td>NaN</td>\n",
       "    </tr>\n",
       "    <tr>\n",
       "      <th>3</th>\n",
       "      <td>1</td>\n",
       "      <td>1957</td>\n",
       "      <td>1</td>\n",
       "      <td>1</td>\n",
       "      <td>313</td>\n",
       "      <td>1</td>\n",
       "      <td>2</td>\n",
       "      <td>1</td>\n",
       "      <td>2</td>\n",
       "      <td>1</td>\n",
       "      <td>...</td>\n",
       "      <td>NaN</td>\n",
       "      <td>NaN</td>\n",
       "      <td>NaN</td>\n",
       "      <td>NaN</td>\n",
       "      <td>NaN</td>\n",
       "      <td>NaN</td>\n",
       "      <td>NaN</td>\n",
       "      <td>NaN</td>\n",
       "      <td>NaN</td>\n",
       "      <td>NaN</td>\n",
       "    </tr>\n",
       "    <tr>\n",
       "      <th>4</th>\n",
       "      <td>1</td>\n",
       "      <td>1957</td>\n",
       "      <td>3</td>\n",
       "      <td>1</td>\n",
       "      <td>322</td>\n",
       "      <td>2</td>\n",
       "      <td>2</td>\n",
       "      <td>1</td>\n",
       "      <td>2</td>\n",
       "      <td>3</td>\n",
       "      <td>...</td>\n",
       "      <td>NaN</td>\n",
       "      <td>NaN</td>\n",
       "      <td>NaN</td>\n",
       "      <td>NaN</td>\n",
       "      <td>NaN</td>\n",
       "      <td>NaN</td>\n",
       "      <td>NaN</td>\n",
       "      <td>NaN</td>\n",
       "      <td>NaN</td>\n",
       "      <td>NaN</td>\n",
       "    </tr>\n",
       "  </tbody>\n",
       "</table>\n",
       "<p>5 rows × 1261 columns</p>\n",
       "</div>"
      ],
      "text/plain": [
       "   vpsu  vstrat  adults  ballot  dateintv  famgen  form  formwt  gender1  \\\n",
       "0     1    1957       1       3       316       2     1       1        2   \n",
       "1     1    1957       2       2       630       1     2       1        2   \n",
       "2     1    1957       2       2       314       2     1       1        2   \n",
       "3     1    1957       1       1       313       1     2       1        2   \n",
       "4     1    1957       3       1       322       2     2       1        2   \n",
       "\n",
       "   hompop  ...  away7  gender14  old14  relate14  relhh14  relhhd14  relsp14  \\\n",
       "0       3  ...    NaN       NaN    NaN       NaN      NaN       NaN      NaN   \n",
       "1       2  ...    NaN       NaN    NaN       NaN      NaN       NaN      NaN   \n",
       "2       2  ...    NaN       NaN    NaN       NaN      NaN       NaN      NaN   \n",
       "3       1  ...    NaN       NaN    NaN       NaN      NaN       NaN      NaN   \n",
       "4       3  ...    NaN       NaN    NaN       NaN      NaN       NaN      NaN   \n",
       "\n",
       "   where12  where6  where7  \n",
       "0      NaN     NaN     NaN  \n",
       "1      NaN     NaN     NaN  \n",
       "2      NaN     NaN     NaN  \n",
       "3      NaN     NaN     NaN  \n",
       "4      NaN     NaN     NaN  \n",
       "\n",
       "[5 rows x 1261 columns]"
      ]
     },
     "execution_count": 3,
     "metadata": {},
     "output_type": "execute_result"
    }
   ],
   "source": [
    "df = pd.read_csv(\"GSS.2006.csv\")\n",
    "df.head()"
   ]
  },
  {
   "cell_type": "markdown",
   "metadata": {},
   "source": [
    "## Qn1. Recode 1 *sort of* continuous variable into categories.  Tell me what you did and explain the variable(s)."
   ]
  },
  {
   "cell_type": "markdown",
   "metadata": {},
   "source": [
    "I will categorize the variable \"hrs1\" into 3 levels, i.e., short, medium, and long. Note that \"hrs1\" refers to the number of hours the respondent worked last week. The range of \"hrs1\" is from 1 to 89.\n",
    "\n",
    "I will thus recode the variable \"hrs\" to:\n",
    "\"short\" == \"1\": 1-30 hours;\n",
    "\"medium\" == \"2\": 31-60 hours;\n",
    "\"long\" == \"3\": 61-89 hours."
   ]
  },
  {
   "cell_type": "code",
   "execution_count": 7,
   "metadata": {},
   "outputs": [],
   "source": [
    "conditions = [\n",
    "    (df['hrs1'] <= 30) ,\n",
    "    (df['hrs1'] >= 31 ) & (df['attend'] <= 60),\n",
    "    (df['hrs1'] >= 61)]\n",
    "choices = [1, 2, 3]\n",
    "df['hrs_level'] = np.select(conditions, choices, default=np.nan)"
   ]
  },
  {
   "cell_type": "code",
   "execution_count": 8,
   "metadata": {},
   "outputs": [
    {
     "data": {
      "text/plain": [
       "count    2732.000000\n",
       "mean        1.833455\n",
       "std         0.374597\n",
       "min         1.000000\n",
       "25%         2.000000\n",
       "50%         2.000000\n",
       "75%         2.000000\n",
       "max         3.000000\n",
       "Name: hrs_level, dtype: float64"
      ]
     },
     "execution_count": 8,
     "metadata": {},
     "output_type": "execute_result"
    }
   ],
   "source": [
    "df['hrs_level'].describe()"
   ]
  },
  {
   "cell_type": "code",
   "execution_count": 9,
   "metadata": {},
   "outputs": [
    {
     "data": {
      "text/plain": [
       "1.0     457\n",
       "2.0    2273\n",
       "3.0       2\n",
       "Name: hrs_level, dtype: int64"
      ]
     },
     "execution_count": 9,
     "metadata": {},
     "output_type": "execute_result"
    }
   ],
   "source": [
    "df['hrs_level'].value_counts().sort_index()"
   ]
  },
  {
   "cell_type": "markdown",
   "metadata": {},
   "source": [
    "## Qn2. Recode 1 another variable and attach value labels.  Tell me what you did and explain the variable(s)."
   ]
  },
  {
   "cell_type": "markdown",
   "metadata": {},
   "source": [
    "I will categorize the variable \"mntlhlth\" into 3 levels, i.e., light, medium, and severe. Note that \"mntlhlth\" refers to the number of days of poor mental health in the past 30 days for each respondent. The range of \"mntlhlth\" is from 0 to 30.\n",
    "\n",
    "I will thus recode the variable \"hrs\" to: \"light\"== \"1\":0-10 days; \"medium\"== \"2\": 11-20 days; \"severe\"== \"3\": 21-30 days."
   ]
  },
  {
   "cell_type": "code",
   "execution_count": 10,
   "metadata": {},
   "outputs": [],
   "source": [
    "conditions = [\n",
    "    (df['mntlhlth'] <= 10) ,\n",
    "    (df['mntlhlth'] >= 11 ) & (df['attend'] <= 20),\n",
    "    (df['mntlhlth'] >= 21)]\n",
    "choices = [1, 2, 3]\n",
    "df['mental_severity'] = np.select(conditions, choices, default=np.nan)"
   ]
  },
  {
   "cell_type": "code",
   "execution_count": 11,
   "metadata": {},
   "outputs": [
    {
     "data": {
      "text/plain": [
       "count    1717.000000\n",
       "mean        1.085614\n",
       "std         0.281950\n",
       "min         1.000000\n",
       "25%         1.000000\n",
       "50%         1.000000\n",
       "75%         1.000000\n",
       "max         3.000000\n",
       "Name: mental_severity, dtype: float64"
      ]
     },
     "execution_count": 11,
     "metadata": {},
     "output_type": "execute_result"
    }
   ],
   "source": [
    "df['mental_severity'].describe()"
   ]
  },
  {
   "cell_type": "code",
   "execution_count": 12,
   "metadata": {},
   "outputs": [
    {
     "data": {
      "text/plain": [
       "1.0    1571\n",
       "2.0     145\n",
       "3.0       1\n",
       "Name: mental_severity, dtype: int64"
      ]
     },
     "execution_count": 12,
     "metadata": {},
     "output_type": "execute_result"
    }
   ],
   "source": [
    "df['mental_severity'].value_counts().sort_index()"
   ]
  },
  {
   "cell_type": "markdown",
   "metadata": {},
   "source": [
    "## Qn3. Use one (or both) of your recoded variables to do a cross-tabulation (as you had done last week, with prop.table, doBy, or ddply). Explain your results.\n",
    "\n"
   ]
  },
  {
   "cell_type": "code",
   "execution_count": 13,
   "metadata": {},
   "outputs": [
    {
     "data": {
      "text/html": [
       "<div>\n",
       "<style scoped>\n",
       "    .dataframe tbody tr th:only-of-type {\n",
       "        vertical-align: middle;\n",
       "    }\n",
       "\n",
       "    .dataframe tbody tr th {\n",
       "        vertical-align: top;\n",
       "    }\n",
       "\n",
       "    .dataframe thead th {\n",
       "        text-align: right;\n",
       "    }\n",
       "</style>\n",
       "<table border=\"1\" class=\"dataframe\">\n",
       "  <thead>\n",
       "    <tr style=\"text-align: right;\">\n",
       "      <th>hrs_level</th>\n",
       "      <th>1.0</th>\n",
       "      <th>2.0</th>\n",
       "      <th>3.0</th>\n",
       "      <th>All</th>\n",
       "    </tr>\n",
       "    <tr>\n",
       "      <th>mental_severity</th>\n",
       "      <th></th>\n",
       "      <th></th>\n",
       "      <th></th>\n",
       "      <th></th>\n",
       "    </tr>\n",
       "  </thead>\n",
       "  <tbody>\n",
       "    <tr>\n",
       "      <th>1.0</th>\n",
       "      <td>259</td>\n",
       "      <td>1271</td>\n",
       "      <td>0</td>\n",
       "      <td>1530</td>\n",
       "    </tr>\n",
       "    <tr>\n",
       "      <th>2.0</th>\n",
       "      <td>31</td>\n",
       "      <td>97</td>\n",
       "      <td>0</td>\n",
       "      <td>128</td>\n",
       "    </tr>\n",
       "    <tr>\n",
       "      <th>3.0</th>\n",
       "      <td>0</td>\n",
       "      <td>0</td>\n",
       "      <td>1</td>\n",
       "      <td>1</td>\n",
       "    </tr>\n",
       "    <tr>\n",
       "      <th>All</th>\n",
       "      <td>290</td>\n",
       "      <td>1368</td>\n",
       "      <td>1</td>\n",
       "      <td>1659</td>\n",
       "    </tr>\n",
       "  </tbody>\n",
       "</table>\n",
       "</div>"
      ],
      "text/plain": [
       "hrs_level        1.0   2.0  3.0   All\n",
       "mental_severity                      \n",
       "1.0              259  1271    0  1530\n",
       "2.0               31    97    0   128\n",
       "3.0                0     0    1     1\n",
       "All              290  1368    1  1659"
      ]
     },
     "execution_count": 13,
     "metadata": {},
     "output_type": "execute_result"
    }
   ],
   "source": [
    "pd.crosstab(df['mental_severity'] ,columns = df['hrs_level'], margins = True)"
   ]
  },
  {
   "cell_type": "markdown",
   "metadata": {},
   "source": [
    "The results showed that for respondents who has worked for short or medium number of hours for the past week, their mental health conditions are less likely to be affected as we can see that the majority of them has light level of poor mental health in the past month. However, when the respondent has worked for a 'long' work hours, he/she has a severe level of poor mental health condition."
   ]
  },
  {
   "cell_type": "markdown",
   "metadata": {},
   "source": [
    "## Qn4. Run a linear regression with 1 independent and 1 dependent variable.  Make all of the recodes necessary to make the model as easy to interpret as possible.  And explain your results."
   ]
  },
  {
   "cell_type": "code",
   "execution_count": 16,
   "metadata": {},
   "outputs": [
    {
     "name": "stdout",
     "output_type": "stream",
     "text": [
      "                            OLS Regression Results                            \n",
      "==============================================================================\n",
      "Dep. Variable:                rincome   R-squared:                       0.119\n",
      "Model:                            OLS   Adj. R-squared:                  0.119\n",
      "Method:                 Least Squares   F-statistic:                     307.4\n",
      "Date:                Tue, 19 Oct 2021   Prob (F-statistic):           1.19e-64\n",
      "Time:                        02:39:52   Log-Likelihood:                -5220.7\n",
      "No. Observations:                2275   AIC:                         1.045e+04\n",
      "Df Residuals:                    2273   BIC:                         1.046e+04\n",
      "Df Model:                           1                                         \n",
      "Covariance Type:            nonrobust                                         \n",
      "==============================================================================\n",
      "                 coef    std err          t      P>|t|      [0.025      0.975]\n",
      "------------------------------------------------------------------------------\n",
      "Intercept      7.8953      0.162     48.654      0.000       7.577       8.214\n",
      "hrs1           0.0637      0.004     17.533      0.000       0.057       0.071\n",
      "==============================================================================\n",
      "Omnibus:                      928.731   Durbin-Watson:                   1.893\n",
      "Prob(Omnibus):                  0.000   Jarque-Bera (JB):             3380.904\n",
      "Skew:                          -2.058   Prob(JB):                         0.00\n",
      "Kurtosis:                       7.327   Cond. No.                         144.\n",
      "==============================================================================\n",
      "\n",
      "Warnings:\n",
      "[1] Standard Errors assume that the covariance matrix of the errors is correctly specified.\n"
     ]
    }
   ],
   "source": [
    "lm = smf.ols(formula = 'rincome~hrs1', data = df).fit()\n",
    "print (lm.summary()) "
   ]
  },
  {
   "cell_type": "markdown",
   "metadata": {},
   "source": [
    "My dependent variable chosen is \"rincome\" (respondent's income level) and the independent variable chosen is \"hrs1\" (the number of hours the respondent worked last week).\n",
    "\n",
    "As seen from the summary table, we can see that though the p-value is 0.000<0.05, suggesting that the estimated coefficient for variable \"hrs\" is statistically significant, the estimated coefficient value of 0.0637 implies that  there is almost trivial positive relationship between the number of hours the respondent worked last week and their income level. Besides, an R-squared value of 0.119 suggests that only 11.9% of variation in our dependent variable \"rincome\" can be explained by the independent variable \"hrs1\"."
   ]
  },
  {
   "cell_type": "markdown",
   "metadata": {},
   "source": [
    "## Qn5. Plot two variables, either as a scatter plot or boxplot.  Explain your results."
   ]
  },
  {
   "cell_type": "code",
   "execution_count": 21,
   "metadata": {},
   "outputs": [
    {
     "name": "stderr",
     "output_type": "stream",
     "text": [
      "/opt/anaconda3/lib/python3.7/site-packages/seaborn/_decorators.py:43: FutureWarning: Pass the following variables as keyword args: x, y. From version 0.12, the only valid positional argument will be `data`, and passing other arguments without an explicit keyword will result in an error or misinterpretation.\n",
      "  FutureWarning\n"
     ]
    },
    {
     "data": {
      "text/plain": [
       "<matplotlib.axes._subplots.AxesSubplot at 0x7fab089c4c90>"
      ]
     },
     "execution_count": 21,
     "metadata": {},
     "output_type": "execute_result"
    },
    {
     "data": {
      "image/png": "[encoded data removed]",
      "text/plain": [
       "<Figure size 432x288 with 1 Axes>"
      ]
     },
     "metadata": {
      "needs_background": "light"
     },
     "output_type": "display_data"
    }
   ],
   "source": [
    "import seaborn as sns\n",
    "\n",
    "sns.regplot(df['hrs1'],df['rincome'])"
   ]
  },
  {
   "cell_type": "markdown",
   "metadata": {},
   "source": [
    "The scatter plot above shows that there is a positive relationship between \"rincome\" and \"hrs1\", suggesting that when people work for a longer period of time, their income level tends to increase as well."
   ]
  },
  {
   "cell_type": "markdown",
   "metadata": {},
   "source": [
    "## Qn6. Tell me two theories/ideas you might want to test in this course. Do you have a dataset for these ideas/theories already? Do you have it in R-readable format already? What is your main independent variable? What is your main dependent variable?  Write it here in this lab report, but ALSO please send me your proposal as an email with the subject \"Independent Project Ideas - [your name]\" to gme2101@columbia.edu"
   ]
  },
  {
   "cell_type": "markdown",
   "metadata": {},
   "source": [
    "There are 2 ideas that I would like to test in this course:\n",
    "\n",
    "1. I would like to investigate on if people who are cyberbullied on social media platforms will become cyberbulliers? I am thinking on conducting a sentiment analysis on Twitter data in orer to define if an individual has been cyberbullied. The main dependent variable will be the number of \"bad\" comments an individual has posted under others' posts after the time point when himeself/herself has been cyberbullied. The main independent variable can be the number of \"bad\" comments this individual has received from others, sex, age, etc.  I do not have the datasets yet and do not have it in R-readable format as well.\n",
    "\n",
    "2. I would like test if there is a correlation between domestic violence and economic growth status of the country. The main dependent variable is the number of domestic violence reported in the country/region very year. The main independent variables are essential economic growth indicators such as GDP, unemployment rate, etc.  I do not have the datasets yet and do not have it in R-readable format as well.\n"
   ]
  },
  {
   "cell_type": "code",
   "execution_count": null,
   "metadata": {},
   "outputs": [],
   "source": []
  }
 ],
 "metadata": {
  "kernelspec": {
   "display_name": "Python 3",
   "language": "python",
   "name": "python3"
  },
  "language_info": {
   "codemirror_mode": {
    "name": "ipython",
    "version": 3
   },
   "file_extension": ".py",
   "mimetype": "text/x-python",
   "name": "python",
   "nbconvert_exporter": "python",
   "pygments_lexer": "ipython3",
   "version": "3.7.6"
  }
 },
 "nbformat": 4,
 "nbformat_minor": 4
}
